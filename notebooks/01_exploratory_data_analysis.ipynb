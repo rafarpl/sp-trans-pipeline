{
 "cells": [
  {
   "cell_type": "markdown",
   "metadata": {},
   "source": [
    "# 📊 Análise Exploratória de Dados - SPTrans Pipeline\n",
    "\n",
    "**Autor:** Rafael - SPTrans Data Team  \n",
    "**Data:** Janeiro 2025  \n",
    "**Objetivo:** Explorar e entender os dados da API SPTrans e GTFS\n",
    "\n",
    "---\n",
    "\n",
    "## Sumário\n",
    "1. [Setup e Imports](#1-setup)\n",
    "2. [Análise da API de Posições](#2-api-positions)\n",
    "3. [Análise dos Dados GTFS](#3-gtfs-data)\n",
    "4. [Qualidade dos Dados](#4-data-quality)\n",
    "5. [Visualizações](#5-visualizations)\n",
    "6. [Insights e Conclusões](#6-insights)"
   ]
  },
  {
   "cell_type": "markdown",
   "metadata": {},
   "source": [
    "## 1. Setup e Imports {#1-setup}"
   ]
  },
  {
   "cell_type": "code",
   "execution_count": null,
   "metadata": {},
   "outputs": [],
   "source": [
    "# Imports básicos\n",
    "import pandas as pd\n",
    "import numpy as np\n",
    "import matplotlib.pyplot as plt\n",
    "import seaborn as sns\n",
    "from datetime import datetime, timedelta\n",
    "import warnings\n",
    "warnings.filterwarnings('ignore')\n",
    "\n",
    "# Configurar visualizações\n",
    "plt.style.use('seaborn-v0_8-darkgrid')\n",
    "sns.set_palette('husl')\n",
    "%matplotlib inline\n",
    "\n",
    "# Configurar pandas\n",
    "pd.set_option('display.max_columns', None)\n",
    "pd.set_option('display.max_rows', 100)\n",
    "pd.set_option('display.float_format', '{:.2f}'.format)\n",
    "\n",
    "print(\"✅ Imports concluídos\")"
   ]
  },
  {
   "cell_type": "code",
   "execution_count": null,
   "metadata": {},
   "outputs": [],
   "source": [
    "# Imports do projeto\n",
    "import sys\n",
    "sys.path.append('..')\n",
    "\n",
    "from src.common.config import Config\n",
    "from src.ingestion.sptrans_api_client import SPTransClient\n",
    "from src.common.validators import CoordinateValidator, DataQualityValidator\n",
    "\n",
    "config = Config()\n",
    "print(\"✅ Módulos do projeto importados\")"
   ]
  },
  {
   "cell_type": "markdown",
   "metadata": {},
   "source": [
    "## 2. Análise da API de Posições {#2-api-positions}"
   ]
  },
  {
   "cell_type": "code",
   "execution_count": null,
   "metadata": {},
   "outputs": [],
   "source": [
    "# Conectar à API\n",
    "client = SPTransClient(token=config.SPTRANS_API_TOKEN)\n",
    "\n",
    "# Obter posições atuais\n",
    "print(\"Obtendo posições dos veículos...\")\n",
    "positions_data = client.get_all_positions()\n",
    "\n",
    "print(f\"✅ Dados obtidos: {len(positions_data.get('l', []))} linhas\")"
   ]
  },
  {
   "cell_type": "code",
   "execution_count": null,
   "metadata": {},
   "outputs": [],
   "source": [
    "# Processar dados em DataFrame\n",
    "vehicles_list = []\n",
    "\n",
    "for line in positions_data.get('l', []):\n",
    "    route_code = line.get('c')\n",
    "    route_name = line.get('lt0', '')\n",
    "    \n",
    "    for vehicle in line.get('vs', []):\n",
    "        vehicles_list.append({\n",
    "            'vehicle_id': vehicle.get('p'),\n",
    "            'route_code': route_code,\n",
    "            'route_name': route_name,\n",
    "            'latitude': vehicle.get('py'),\n",
    "            'longitude': vehicle.get('px'),\n",
    "            'has_accessibility': vehicle.get('a', False),\n",
    "            'timestamp': vehicle.get('ta')\n",
    "        })\n",
    "\n",
    "df_positions = pd.DataFrame(vehicles_list)\n",
    "\n",
    "print(f\"✅ DataFrame criado: {len(df_positions):,} veículos\")\n",
    "df_positions.head()"
   ]
  },
  {
   "cell_type": "code",
   "execution_count": null,
   "metadata": {},
   "outputs": [],
   "source": [
    "# Estatísticas básicas\n",
    "print(\"📊 ESTATÍSTICAS BÁSICAS\")\n",
    "print(\"=\"*60)\n",
    "print(f\"Total de veículos: {len(df_positions):,}\")\n",
    "print(f\"Total de rotas: {df_positions['route_code'].nunique():,}\")\n",
    "print(f\"Veículos com acessibilidade: {df_positions['has_accessibility'].sum():,} ({df_positions['has_accessibility'].mean()*100:.1f}%)\")\n",
    "print(f\"\\nDados por rota:\")\n",
    "print(df_positions.groupby('route_code').size().sort_values(ascending=False).head(10))"
   ]
  },
  {
   "cell_type": "markdown",
   "metadata": {},
   "source": [
    "## 3. Análise dos Dados GTFS {#3-gtfs-data}"
   ]
  },
  {
   "cell_type": "code",
   "execution_count": null,
   "metadata": {},
   "outputs": [],
   "source": [
    "# Carregar dados GTFS\n",
    "print(\"Carregando dados GTFS...\")\n",
    "\n",
    "gtfs_path = '../data/gtfs/'\n",
    "\n",
    "# Routes\n",
    "df_routes = pd.read_csv(f'{gtfs_path}routes.txt')\n",
    "print(f\"✅ Routes: {len(df_routes):,} linhas\")\n",
    "\n",
    "# Stops\n",
    "df_stops = pd.read_csv(f'{gtfs_path}stops.txt')\n",
    "print(f\"✅ Stops: {len(df_stops):,} paradas\")\n",
    "\n",
    "# Trips\n",
    "df_trips = pd.read_csv(f'{gtfs_path}trips.txt')\n",
    "print(f\"✅ Trips: {len(df_trips):,} viagens\")"
   ]
  },
  {
   "cell_type": "code",
   "execution_count": null,
   "metadata": {},
   "outputs": [],
   "source": [
    "# Análise de routes\n",
    "print(\"📊 ANÁLISE DE ROTAS (GTFS)\")\n",
    "print(\"=\"*60)\n",
    "print(f\"Total de rotas: {len(df_routes):,}\")\n",
    "print(f\"\\nTipos de rota:\")\n",
    "print(df_routes['route_type'].value_counts())\n",
    "print(f\"\\nTop 10 rotas por nome:\")\n",
    "df_routes.head(10)[['route_short_name', 'route_long_name']]"
   ]
  },
  {
   "cell_type": "code",
   "execution_count": null,
   "metadata": {},
   "outputs": [],
   "source": [
    "# Análise de stops (paradas)\n",
    "print(\"📊 ANÁLISE DE PARADAS (GTFS)\")\n",
    "print(\"=\"*60)\n",
    "print(f\"Total de paradas: {len(df_stops):,}\")\n",
    "\n",
    "# Distribuição geográfica\n",
    "print(f\"\\nDistribuição Geográfica:\")\n",
    "print(f\"Latitude: {df_stops['stop_lat'].min():.4f} a {df_stops['stop_lat'].max():.4f}\")\n",
    "print(f\"Longitude: {df_stops['stop_lon'].min():.4f} a {df_stops['stop_lon'].max():.4f}\")\n",
    "\n",
    "# Amostra\n",
    "df_stops.head()"
   ]
  },
  {
   "cell_type": "markdown",
   "metadata": {},
   "source": [
    "## 4. Qualidade dos Dados {#4-data-quality}"
   ]
  },
  {
   "cell_type": "code",
   "execution_count": null,
   "metadata": {},
   "outputs": [],
   "source": [
    "# Validar coordenadas das posições\n",
    "print(\"🔍 VALIDAÇÃO DE QUALIDADE - POSIÇÕES\")\n",
    "print(\"=\"*60)\n",
    "\n",
    "# Verificar coordenadas válidas\n",
    "valid_coords = df_positions.apply(\n",
    "    lambda row: CoordinateValidator.is_valid_coordinate(row['latitude'], row['longitude']),\n",
    "    axis=1\n",
    ")\n",
    "\n",
    "print(f\"Coordenadas válidas: {valid_coords.sum():,} ({valid_coords.mean()*100:.2f}%)\")\n",
    "print(f\"Coordenadas inválidas: {(~valid_coords).sum():,}\")\n",
    "\n",
    "# Valores nulos\n",
    "print(f\"\\nValores nulos:\")\n",
    "print(df_positions.isnull().sum())\n",
    "\n",
    "# Duplicatas\n",
    "duplicates = df_positions.duplicated(subset=['vehicle_id']).sum()\n",
    "print(f\"\\nDuplicatas (vehicle_id): {duplicates:,}\")"
   ]
  },
  {
   "cell_type": "code",
   "execution_count": null,
   "metadata": {},
   "outputs": [],
   "source": [
    "# Validar paradas GTFS\n",
    "print(\"🔍 VALIDAÇÃO DE QUALIDADE - PARADAS (GTFS)\")\n",
    "print(\"=\"*60)\n",
    "\n",
    "# Verificar coordenadas válidas\n",
    "valid_stops = df_stops.apply(\n",
    "    lambda row: CoordinateValidator.is_valid_coordinate(row['stop_lat'], row['stop_lon'], strict=False),\n",
    "    axis=1\n",
    ")\n",
    "\n",
    "print(f\"Paradas com coordenadas válidas: {valid_stops.sum():,} ({valid_stops.mean()*100:.2f}%)\")\n",
    "print(f\"Paradas com coordenadas inválidas: {(~valid_stops).sum():,}\")\n",
    "\n",
    "# Valores nulos\n",
    "print(f\"\\nValores nulos nas paradas:\")\n",
    "print(df_stops.isnull().sum())"
   ]
  },
  {
   "cell_type": "markdown",
   "metadata": {},
   "source": [
    "## 5. Visualizações {#5-visualizations}"
   ]
  },
  {
   "cell_type": "code",
   "execution_count": null,
   "metadata": {},
   "outputs": [],
   "source": [
    "# Distribuição de veículos por rota (top 20)\n",
    "fig, ax = plt.subplots(figsize=(14, 6))\n",
    "\n",
    "top_routes = df_positions['route_code'].value_counts().head(20)\n",
    "top_routes.plot(kind='bar', ax=ax, color='steelblue')\n",
    "\n",
    "ax.set_title('Top 20 Rotas com Mais Veículos', fontsize=16, fontweight='bold')\n",
    "ax.set_xlabel('Código da Rota', fontsize=12)\n",
    "ax.set_ylabel('Número de Veículos', fontsize=12)\n",
    "ax.grid(axis='y', alpha=0.3)\n",
    "\n",
    "plt.xticks(rotation=45, ha='right')\n",
    "plt.tight_layout()\n",
    "plt.show()\n",
    "\n",
    "print(f\"✅ Visualização gerada: Top 20 rotas\")"
   ]
  },
  {
   "cell_type": "code",
   "execution_count": null,
   "metadata": {},
   "outputs": [],
   "source": [
    "# Mapa de calor - Distribuição geográfica de veículos\n",
    "fig, ax = plt.subplots(figsize=(12, 10))\n",
    "\n",
    "# Plotar posições dos veículos\n",
    "scatter = ax.scatter(\n",
    "    df_positions['longitude'],\n",
    "    df_positions['latitude'],\n",
    "    c='red',\n",
    "    alpha=0.3,\n",
    "    s=10,\n",
    "    label='Veículos'\n",
    ")\n",
    "\n",
    "# Plotar paradas\n",
    "ax.scatter(\n",
    "    df_stops['stop_lon'],\n",
    "    df_stops['stop_lat'],\n",
    "    c='blue',\n",
    "    alpha=0.1,\n",
    "    s=2,\n",
    "    label='Paradas'\n",
    ")\n",
    "\n",
    "ax.set_title('Distribuição Geográfica - Veículos e Paradas (São Paulo)', fontsize=16, fontweight='bold')\n",
    "ax.set_xlabel('Longitude', fontsize=12)\n",
    "ax.set_ylabel('Latitude', fontsize=12)\n",
    "ax.legend()\n",
    "ax.grid(True, alpha=0.3)\n",
    "\n",
    "plt.tight_layout()\n",
    "plt.show()\n",
    "\n",
    "print(f\"✅ Mapa de distribuição gerado\")"
   ]
  },
  {
   "cell_type": "code",
   "execution_count": null,
   "metadata": {},
   "outputs": [],
   "source": [
    "# Acessibilidade dos veículos\n",
    "fig, ax = plt.subplots(figsize=(8, 6))\n",
    "\n",
    "accessibility_counts = df_positions['has_accessibility'].value_counts()\n",
    "colors = ['#ff6b6b', '#4ecdc4']\n",
    "labels = ['Sem Acessibilidade', 'Com Acessibilidade']\n",
    "\n",
    "ax.pie(\n",
    "    accessibility_counts,\n",
    "    labels=labels,\n",
    "    autopct='%1.1f%%',\n",
    "    colors=colors,\n",
    "    startangle=90,\n",
    "    textprops={'fontsize': 12}\n",
    ")\n",
    "\n",
    "ax.set_title('Distribuição de Acessibilidade nos Veículos', fontsize=16, fontweight='bold')\n",
    "\n",
    "plt.tight_layout()\n",
    "plt.show()\n",
    "\n",
    "print(f\"✅ Gráfico de acessibilidade gerado\")"
   ]
  },
  {
   "cell_type": "markdown",
   "metadata": {},
   "source": [
    "## 6. Insights e Conclusões {#6-insights}"
   ]
  },
  {
   "cell_type": "code",
   "execution_count": null,
   "metadata": {},
   "outputs": [],
   "source": [
    "print(\"📝 INSIGHTS E CONCLUSÕES\")\n",
    "print(\"=\"*80)\n",
    "\n",
    "print(f\"\\n1️⃣ VOLUME DE DADOS\")\n",
    "print(f\"   • {len(df_positions):,} veículos ativos no momento da coleta\")\n",
    "print(f\"   • {df_positions['route_code'].nunique():,} rotas diferentes em operação\")\n",
    "print(f\"   • {len(df_stops):,} paradas cadastradas no sistema GTFS\")\n",
    "\n",
    "print(f\"\\n2️⃣ QUALIDADE DOS DADOS\")\n",
    "valid_pct = valid_coords.mean() * 100\n",
    "print(f\"   • {valid_pct:.2f}% das coordenadas são válidas (dentro de São Paulo)\")\n",
    "print(f\"   • Taxa de nulos: {df_positions.isnull().sum().sum() / df_positions.size * 100:.2f}%\")\n",
    "\n",
    "print(f\"\\n3️⃣ ACESSIBILIDADE\")\n",
    "accessibility_pct = df_positions['has_accessibility'].mean() * 100\n",
    "print(f\"   • {accessibility_pct:.1f}% dos veículos possuem acessibilidade\")\n",
    "\n",
    "print(f\"\\n4️⃣ DISTRIBUIÇÃO GEOGRÁFICA\")\n",
    "print(f\"   • Veículos distribuídos por toda área metropolitana\")\n",
    "print(f\"   • Maior concentração no centro expandido\")\n",
    "\n",
    "print(f\"\\n5️⃣ RECOMENDAÇÕES\")\n",
    "print(f\"   ✅ Dados têm qualidade suficiente para análises\")\n",
    "print(f\"   ✅ API fornece dados em tempo real consistentes\")\n",
    "print(f\"   ⚠️  Validação de coordenadas é essencial\")\n",
    "print(f\"   ⚠️  Tratamento de valores nulos necessário\")\n",
    "\n",
    "print(\"\\n\" + \"=\"*80)"
   ]
  },
  {
   "cell_type": "markdown",
   "metadata": {},
   "source": [
    "---\n",
    "\n",
    "## 📌 Próximos Passos\n",
    "\n",
    "1. **Análise temporal**: Coletar dados ao longo do tempo para identificar padrões\n",
    "2. **Performance**: Análise de velocidades e tempos de viagem\n",
    "3. **Headway**: Calcular intervalos entre ônibus\n",
    "4. **Integração**: Cruzar dados de API com GTFS para enriquecimento\n",
    "5. **ML**: Modelos preditivos de atrasos e demanda\n",
    "\n",
    "---\n",
    "\n",
    "**Notebook criado por:** Rafael - SPTrans Data Team  \n",
    "**Data:** Janeiro 2025  \n",
    "**Versão:** 1.0"
   ]
  }
 ],
 "metadata": {
  "kernelspec": {
   "display_name": "Python 3",
   "language": "python",
   "name": "python3"
  },
  "language_info": {
   "codemirror_mode": {
    "name": "ipython",
    "version": 3
   },
   "file_extension": ".py",
   "mimetype": "text/x-python",
   "name": "python",
   "nbconvert_exporter": "python",
   "pygments_lexer": "ipython3",
   "version": "3.10.0"
  }
 },
 "nbformat": 4,
 "nbformat_minor": 4
}
